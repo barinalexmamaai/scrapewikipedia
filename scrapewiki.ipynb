{
 "cells": [
  {
   "cell_type": "markdown",
   "id": "81c44e08",
   "metadata": {},
   "source": [
    "## CREATE CZECH LANGUAGE DATASET FROM WIKI ARTICLES"
   ]
  },
  {
   "cell_type": "code",
   "execution_count": 9,
   "id": "c18e257c",
   "metadata": {},
   "outputs": [],
   "source": [
    "import wikipedia\n",
    "import pandas as pd\n",
    "from nltk.tokenize import sent_tokenize\n",
    "import re"
   ]
  },
  {
   "cell_type": "code",
   "execution_count": 10,
   "id": "de97af7a",
   "metadata": {},
   "outputs": [],
   "source": [
    "#set czech language and initialize parameters\n",
    "wikipedia.set_lang('cs')\n",
    "npages = 10\n",
    "path = 'data.json'"
   ]
  },
  {
   "cell_type": "code",
   "execution_count": 11,
   "id": "84ac7572",
   "metadata": {},
   "outputs": [],
   "source": [
    "def parse(raw_content: str) -> str:\n",
    "    \"\"\"\n",
    "    :param raw_content: text from wiki page\n",
    "    :return: cleaned text\n",
    "    \"\"\"\n",
    "    section_title_re = re.compile(\"^=+\\s+.*\\s+=+$\")\n",
    "    content = []\n",
    "    skip = False\n",
    "    for l in raw_content.splitlines():\n",
    "        line = l.strip()\n",
    "        if \"= references =\" in line.lower():\n",
    "            skip = True\n",
    "        elif \"= further reading =\" in line.lower():\n",
    "            skip = True\n",
    "        elif section_title_re.match(line):\n",
    "            skip = False\n",
    "        elif not skip:\n",
    "            content.append(line)\n",
    "    return '\\n'.join(content) + '\\n'"
   ]
  },
  {
   "cell_type": "code",
   "execution_count": 12,
   "id": "fea747fc",
   "metadata": {},
   "outputs": [],
   "source": [
    "def avoidexceptions(title: str) -> str:\n",
    "    \"\"\"\n",
    "    :param title: page title\n",
    "    :return: page summary as plain text\n",
    "    \"\"\"\n",
    "    text = None\n",
    "    counter = 10\n",
    "    while text is None and counter > 0:\n",
    "        try:\n",
    "            page = wikipedia.page(title)\n",
    "            text = parse(page.content)\n",
    "        except:\n",
    "            title = wikipedia.random(pages=1)\n",
    "        counter -= 1\n",
    "    return text"
   ]
  },
  {
   "cell_type": "code",
   "execution_count": 13,
   "id": "f1fef1f2",
   "metadata": {},
   "outputs": [],
   "source": [
    "def getrandomczechtexts(npages: int = 10) -> pd.DataFrame:\n",
    "    \"\"\"\n",
    "    :param npages: number of texts\n",
    "    :return: list of texts\n",
    "    \"\"\"\n",
    "    titles = wikipedia.random(pages=npages)\n",
    "    summaries = [[title, avoidexceptions(title=title)] for title in titles]\n",
    "    return pd.DataFrame(data=summaries, columns=[\"title\", \"text\"])"
   ]
  },
  {
   "cell_type": "code",
   "execution_count": 15,
   "id": "d7299cc2",
   "metadata": {},
   "outputs": [],
   "source": [
    "# get dataframe with czech pages and save to json\n",
    "df = getrandomczechtexts(npages=npages)\n",
    "df = df.dropna()\n",
    "df.to_json(path)"
   ]
  }
 ],
 "metadata": {
  "kernelspec": {
   "display_name": "Python 3 (ipykernel)",
   "language": "python",
   "name": "python3"
  },
  "language_info": {
   "codemirror_mode": {
    "name": "ipython",
    "version": 3
   },
   "file_extension": ".py",
   "mimetype": "text/x-python",
   "name": "python",
   "nbconvert_exporter": "python",
   "pygments_lexer": "ipython3",
   "version": "3.8.12"
  }
 },
 "nbformat": 4,
 "nbformat_minor": 5
}
